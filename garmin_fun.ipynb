{
 "cells": [
  {
   "cell_type": "code",
   "execution_count": 37,
   "metadata": {},
   "outputs": [],
   "source": [
    "import sys\n",
    "import fitparse\n",
    "import pandas as pd"
   ]
  },
  {
   "cell_type": "code",
   "execution_count": 4,
   "metadata": {},
   "outputs": [],
   "source": [
    "fn = '/Users/sentient-asoellinger/code/garmin_fun/examples/2628314301.fit'\n",
    "ff = fitparse.FitFile(fn)"
   ]
  },
  {
   "cell_type": "code",
   "execution_count": 12,
   "metadata": {},
   "outputs": [],
   "source": [
    "a = ff.get_messages('record')"
   ]
  },
  {
   "cell_type": "code",
   "execution_count": 59,
   "metadata": {},
   "outputs": [],
   "source": [
    "data = []\n",
    "\n",
    "for record in ff.get_messages('record'):\n",
    "\n",
    "    data.append(record.get_values())\n",
    "\n",
    "data = pd.DataFrame(data)\n",
    "data.index = data.timestamp"
   ]
  },
  {
   "cell_type": "code",
   "execution_count": 69,
   "metadata": {},
   "outputs": [
    {
     "data": {
      "text/plain": [
       "count                       911\n",
       "mean     0 days 00:00:05.425905\n",
       "std      0 days 00:00:02.871372\n",
       "min             0 days 00:00:01\n",
       "25%             0 days 00:00:03\n",
       "50%             0 days 00:00:06\n",
       "75%             0 days 00:00:08\n",
       "max             0 days 00:00:18\n",
       "Name: period, dtype: object"
      ]
     },
     "execution_count": 69,
     "metadata": {},
     "output_type": "execute_result"
    }
   ],
   "source": [
    "data['single_offset'] = data.timestamp.shift(1)\n",
    "data['period'] =  data.timestamp - data.single_offset\n",
    "data.period.describe()"
   ]
  }
 ],
 "metadata": {
  "kernelspec": {
   "display_name": "Python 3",
   "language": "python",
   "name": "python3"
  },
  "language_info": {
   "codemirror_mode": {
    "name": "ipython",
    "version": 3
   },
   "file_extension": ".py",
   "mimetype": "text/x-python",
   "name": "python",
   "nbconvert_exporter": "python",
   "pygments_lexer": "ipython3",
   "version": "3.6.4"
  }
 },
 "nbformat": 4,
 "nbformat_minor": 2
}
