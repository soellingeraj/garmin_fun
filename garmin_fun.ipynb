{
 "cells": [
  {
   "cell_type": "code",
   "execution_count": 87,
   "metadata": {},
   "outputs": [],
   "source": [
    "# -*- coding: utf-8 -*-\n",
    "\n",
    "\"\"\"Garmin fitfile pipeline\n",
    "\n",
    "This notebook will exist to experiment around with the garmin\n",
    "fit files.\n",
    "\n",
    "Example:\n",
    "        \n",
    "Attributes:\n",
    "    \n",
    "Todo:\n",
    "  * finish curvature\n",
    "  * explain the garmin sampling algorithm\n",
    "  * explore metadata from fitfile for:\n",
    "    * device information\n",
    "    * device settings\n",
    "  * join in weather\n",
    "    \n",
    "\"\"\"\n",
    "\n",
    "import sys\n",
    "import fitparse\n",
    "import pandas as pd\n",
    "import numpy as np\n",
    "import geopandas as gpd\n",
    "from shapely.geometry import Point"
   ]
  },
  {
   "cell_type": "code",
   "execution_count": 2,
   "metadata": {},
   "outputs": [],
   "source": [
    "fn = '/Users/sentient-asoellinger/code/garmin_fun/examples/2628314301.fit'\n",
    "ff = fitparse.FitFile(fn)"
   ]
  },
  {
   "cell_type": "code",
   "execution_count": 3,
   "metadata": {},
   "outputs": [],
   "source": [
    "a = ff.get_messages('record')"
   ]
  },
  {
   "cell_type": "code",
   "execution_count": 61,
   "metadata": {},
   "outputs": [],
   "source": [
    "def compute_num_secs(a, b):\n",
    "    if pd.isnull(a) or pd.isnull(b): return pd.np.nan\n",
    "    temp = a - b\n",
    "    return temp.total_seconds() \n",
    "\n",
    "def poly_area(x,y):\n",
    "    \n",
    "    return 0.5*np.abs(np.dot(x,np.roll(y,1))-np.dot(y,np.roll(x,1)))\n",
    "\n",
    "def menger_curvature(x, y):\n",
    "    X = np.array(x, y, np.ones(len(x)))\n",
    "    area = 0.5 * np.abs(np.linalg.det(X))\n",
    "    num = 4 * area\n",
    "    den = "
   ]
  },
  {
   "cell_type": "code",
   "execution_count": 84,
   "metadata": {},
   "outputs": [],
   "source": [
    "data = []\n",
    "\n",
    "for record in ff.get_messages('record'):\n",
    "\n",
    "    data.append(record.get_values())\n",
    "\n",
    "data = pd.DataFrame(data)\n",
    "data.index = data.timestamp\n",
    "data['ts_offset_1'] = data.timestamp.shift(1)\n",
    "data['period_seconds'] =  data.apply(lambda x: compute_num_secs(x['timestamp'], x['ts_offset_1']), axis=1)\n",
    "data['position_lat_-1'] = data.position_lat.shift(1)\n",
    "data['position_long_-1'] = data.position_long.shift(1)\n",
    "data['position_lat_-2'] = data.position_lat.shift(2)\n",
    "data['position_long_-2'] = data.position_long.shift(2)"
   ]
  },
  {
   "cell_type": "code",
   "execution_count": 101,
   "metadata": {},
   "outputs": [],
   "source": [
    "gdf = gpd.GeoDataFrame(data)\n",
    "gdf['coordinate_0'] = gdf.apply(lambda x: Point(x['position_lat'], \n",
    "                                                x['position_long']), axis=1)\n",
    "\n",
    "gdf['coordinate_1'] = gdf.apply(lambda x: Point(x['position_lat_-1'], \n",
    "                                                x['position_long_-1']), axis=1)\n",
    "\n",
    "gdf['coordinate_2'] = gdf.apply(lambda x: Point(x['position_lat_-2'], \n",
    "                                                x['position_long_-2']), axis=1)"
   ]
  },
  {
   "cell_type": "code",
   "execution_count": 106,
   "metadata": {},
   "outputs": [],
   "source": [
    "gdf[['coordinate_0', 'coordinate_1', 'coordinate_2']].apply()"
   ]
  },
  {
   "cell_type": "code",
   "execution_count": 80,
   "metadata": {},
   "outputs": [],
   "source": [
    "data1 = data.resample('1min').agg(['mean', 'std', 'min', 'max', 'count', 'skew'])\n",
    "data1.columns = [\"_\".join(x) for x in data1.columns.ravel()]\n",
    "count_cols = [col for col in data1.columns if 'count' in col]\n",
    "data1 = data1.drop(count_cols[1:], axis=1)\n",
    "data1.rename(columns={count_cols[0]:'count'}, inplace=True)\n",
    "data1.columns\n",
    "data1['distance_offset_1'] = data1.distance_mean.shift(1)\n",
    "data1['distance_traveled'] = data1.distance_mean - data1.distance_offset_1\n",
    "#data.period.describe()"
   ]
  },
  {
   "cell_type": "code",
   "execution_count": 82,
   "metadata": {},
   "outputs": [],
   "source": [
    "data1.to_csv('tst.csv')"
   ]
  }
 ],
 "metadata": {
  "kernelspec": {
   "display_name": "Python 3",
   "language": "python",
   "name": "python3"
  },
  "language_info": {
   "codemirror_mode": {
    "name": "ipython",
    "version": 3
   },
   "file_extension": ".py",
   "mimetype": "text/x-python",
   "name": "python",
   "nbconvert_exporter": "python",
   "pygments_lexer": "ipython3",
   "version": "3.6.4"
  }
 },
 "nbformat": 4,
 "nbformat_minor": 2
}
